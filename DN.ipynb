{
 "cells": [
  {
   "cell_type": "code",
   "execution_count": 1,
   "metadata": {},
   "outputs": [],
   "source": [
    "import json\n",
    "import re"
   ]
  },
  {
   "cell_type": "code",
   "execution_count": 2,
   "metadata": {},
   "outputs": [],
   "source": [
    "# Asignamos un nombre para los ejercicios\n",
    "\n",
    "categoria = \"MP, MT, DB\"\n",
    "nombre = \"Autogenerados Fácil (Juliana)\"\n",
    "\n",
    "\n",
    "categoria_html = \"\"\"\n",
    "<question type=\"category\">\n",
    "    <category>\n",
    "        <text>$course$/top/Por defecto en 2020-1S_18610326_94563_63648/Deducción natural/Autogenerados/%s/%s</text>\n",
    "\n",
    "    </category>\n",
    "  </question>\"\"\" % (categoria, nombre)"
   ]
  },
  {
   "cell_type": "code",
   "execution_count": 3,
   "metadata": {},
   "outputs": [],
   "source": [
    "# Cargamos los ejercicios en formato JSON\n",
    "with open('ejercicios.json') as f:\n",
    "    ejercicios = json.loads(f.read())"
   ]
  },
  {
   "cell_type": "code",
   "execution_count": 4,
   "metadata": {},
   "outputs": [],
   "source": [
    "# Definimos unas constantes para los operadores lógicos...\n",
    "lenguaje = [\n",
    "    \"&\",\n",
    "    \"v\",\n",
    "    \"→\",\n",
    "    \"⟷\",\n",
    "    \"~\",\n",
    "    \"(\",\n",
    "    \")\"\n",
    "]"
   ]
  },
  {
   "cell_type": "code",
   "execution_count": 5,
   "metadata": {},
   "outputs": [],
   "source": [
    "# ...y una lista de reglas de inferencia.\n",
    "reglas = [\n",
    "    \"Simp.\",\n",
    "    \"Conj.\",\n",
    "    \"Add.\",\n",
    "    \"SD\",\n",
    "    \"MP\",\n",
    "    \"MT\",\n",
    "    \"DB\",\n",
    "]"
   ]
  },
  {
   "cell_type": "code",
   "execution_count": 6,
   "metadata": {},
   "outputs": [],
   "source": [
    "### FUNCIONES AUXILIARES\n",
    "\n",
    "# Esta función recibe un ejercicio que contiene premisas y pasos.\n",
    "# Pasamos por cada uno de los pasos para extraer las proposiciones atómicas.\n",
    "# Ya que estamos pasando por cada proposición atómica, revisamos la presencia\n",
    "# de cuantificadores para agregarlos al lenguaje en caso de que sea necesario.\n",
    "# Hacemos esto por cada ejercicio en caso de que tengamos cuantificadores\n",
    "# con variables diferentes.\n",
    "\n",
    "def parse_atomicas(ejercicio):\n",
    "    lenguaje_local = []\n",
    "    \n",
    "    proposiciones = []\n",
    "\n",
    "    for paso in ejercicio['pasos']:\n",
    "        props = re.findall('[A-Z][a-z]+', paso[0])\n",
    "        props += re.findall('[a-z]=[a-z]', paso[0])\n",
    "        for prop in props:\n",
    "            if prop not in proposiciones:\n",
    "                proposiciones.append(prop)\n",
    "                \n",
    "        cuantificadores = re.findall('\\(∀[a-z]\\)', paso[0])\n",
    "        cuantificadores += re.findall('\\(∃[a-z]\\)', paso[0])\n",
    "        \n",
    "        for cuantificador in cuantificadores:\n",
    "            if cuantificador not in lenguaje_local:\n",
    "                lenguaje_local.append(cuantificador)\n",
    "                \n",
    "    return proposiciones, lenguaje_local"
   ]
  },
  {
   "cell_type": "code",
   "execution_count": 7,
   "metadata": {},
   "outputs": [],
   "source": [
    "# Definimos una función de reemplazo que va por cada string de cada paso\n",
    "# y reemplaza cada proposición atómica, cada operador y cada regla de inferencia y número\n",
    "# por un código [[X]] para moodle. Esto es lo que nos ayuda a formar las casillas.\n",
    "\n",
    "def reemplazo(paso):\n",
    "    string = paso\n",
    "    \n",
    "    for item in completo:\n",
    "        if \"*\" not in string:\n",
    "            #print(\"Buscando: %s\" % item)\n",
    "            rem = '(?<!\\[\\[)' + item.replace('(', '\\(').replace(')', '\\)') + '(?!\\]\\])'\n",
    "\n",
    "            string = re.sub(rem, '[[' + str(completo.index(item) + 1) + ']]', string)\n",
    "\n",
    "    string = string.replace(\"*\", \"\")\n",
    "    \n",
    "    #print(\"%s → %s\" % (paso, string))\n",
    "    return string"
   ]
  },
  {
   "cell_type": "code",
   "execution_count": 8,
   "metadata": {},
   "outputs": [],
   "source": [
    "## Esta función genera la tabla del ejercicio en HTML.\n",
    "# Esta es la que nos premite presentar el ejercicio en moodle.\n",
    "\n",
    "def generar_tabla(ejercicio):\n",
    "\n",
    "    tabla = \"<strong>Conclusión:</strong> %s <br>\\n<table>\\n\" % ejercicio['objetivo']\n",
    "    contador_pasos = 1\n",
    "\n",
    "    for premisa in ejercicio['premisas']:\n",
    "        row_tag = '\\t<tr>'\n",
    "        columna_pasos = '\\n\\t\\t<td style=\"padding: 5px; border-right: 1px solid black;\"> %s </td>\\n' % contador_pasos\n",
    "        contador_pasos += 1\n",
    "\n",
    "        if premisa == ejercicio['premisas'][-1]:\n",
    "            premisa_html = '\\t\\t<td style=\"padding: 5px; border-bottom: 1px solid black;\" colspan=\"2\"> %s </td>\\n' % premisa\n",
    "\n",
    "        else:\n",
    "            premisa_html = '\\t\\t<td style=\"padding: 5px;\" colspan=\"2\"> %s </td>\\n' % premisa\n",
    "\n",
    "        tabla += '\\t<tr>' + columna_pasos + premisa_html + '</tr>\\n'\n",
    "\n",
    "\n",
    "    for paso in ejercicio['pasos']:\n",
    "        columna_pasos = '\\t\\t<td style=\"padding: 5px; border-right: 1px solid black;\"> %s </td>\\n' % contador_pasos\n",
    "        contador_pasos += 1\n",
    "\n",
    "        regla = '\\t\\t<td>%s</td>\\n' % reemplazo(paso[1])\n",
    "\n",
    "        paso_html = '\\t\\t<td style=\"padding: 5px;\"> %s </td>\\n' % reemplazo(paso[0])\n",
    "\n",
    "        tabla += '\\t<tr>' + columna_pasos + paso_html + regla + '</tr>\\n'\n",
    "\n",
    "    tabla += '</table>\\n'\n",
    "    \n",
    "    return tabla"
   ]
  },
  {
   "cell_type": "code",
   "execution_count": 9,
   "metadata": {},
   "outputs": [],
   "source": [
    "## Esto genera el XML correspondiente al ejercicio.\n",
    "# Juntamos la tabla generada en HTML con código XML de Moodle para su importación.\n",
    "\n",
    "def generar_ejercicio(tabla, contador_ejercicios):\n",
    "\n",
    "    ejercicio_html = \"\"\"\n",
    "    <question type=\"ddwtos\">\n",
    "        <name>\n",
    "           <text>%s %s</text>\n",
    "        </name>\n",
    "        <questiontext format=\"html\">\n",
    "            <text><![CDATA[\\n\"\"\" % (nombre, contador_ejercicios)\n",
    "    \n",
    "    contador_ejercicios += 1\n",
    "\n",
    "    ejercicio_html += tabla\n",
    "\n",
    "    ejercicio_html += \"\"\"\n",
    "        ]]></text>\n",
    "        </questiontext>\n",
    "        <generalfeedback format=\"html\">\n",
    "          <text></text>\n",
    "        </generalfeedback>\n",
    "        <defaultgrade>1.0000000</defaultgrade>\n",
    "        <penalty>0.3333333</penalty>\n",
    "        <hidden>0</hidden>\n",
    "        <shuffleanswers>0</shuffleanswers>\n",
    "        <correctfeedback format=\"html\">\n",
    "          <text><![CDATA[<p>Respuesta correcta</p>]]></text>\n",
    "        </correctfeedback>\n",
    "        <partiallycorrectfeedback format=\"html\">\n",
    "          <text><![CDATA[<p>Respuesta parcialmente correcta.</p>]]></text>\n",
    "        </partiallycorrectfeedback>\n",
    "        <incorrectfeedback format=\"html\">\n",
    "          <text><![CDATA[<p>Respuesta incorrecta.</p>]]></text>\n",
    "        </incorrectfeedback>\n",
    "        <shownumcorrect/>\\n\"\"\"\n",
    "    \n",
    "    return ejercicio_html"
   ]
  },
  {
   "cell_type": "code",
   "execution_count": 10,
   "metadata": {},
   "outputs": [],
   "source": [
    "# Generamos las casillas (dragboxes) para cada proposición atómica, operador y regla de inferencia.\n",
    "\n",
    "def generar_dragboxes(proposiciones, lenguaje_local):\n",
    "    dragboxes = \"\"\n",
    "    for item in completo:\n",
    "        item_html = \"<dragbox>\\n\"\n",
    "        item_html += \"\\t\\t\\t<text><![CDATA[%s]]></text>\\n\" % item\n",
    "\n",
    "        if item in proposiciones:\n",
    "            grupo = 1\n",
    "        elif item in lenguaje_local:\n",
    "            grupo = 1\n",
    "        elif item in reglas:\n",
    "            grupo = 3\n",
    "        else:\n",
    "            grupo = 4\n",
    "\n",
    "        item_html += \"\\t\\t\\t<group>%s</group>\\n\" % grupo\n",
    "        item_html += \"\\t\\t\\t<infinite/>\\n\"\n",
    "        item_html += \"\\t\\t</dragbox>\\n\"\n",
    "\n",
    "        dragboxes += item_html\n",
    "\n",
    "    return dragboxes"
   ]
  },
  {
   "cell_type": "code",
   "execution_count": 11,
   "metadata": {},
   "outputs": [],
   "source": [
    "# Constante de comienzo del código html\n",
    "headers = '<?xml version=\"1.0\" encoding=\"UTF-8\"?>\\n<quiz>\\n'"
   ]
  },
  {
   "cell_type": "code",
   "execution_count": 12,
   "metadata": {},
   "outputs": [
    {
     "name": "stdout",
     "output_type": "stream",
     "text": [
      "¡Listos!\n",
      "Ejercicios procesados: 5\n"
     ]
    }
   ],
   "source": [
    "# Loop principal\n",
    "\n",
    "html = headers + categoria_html\n",
    "\n",
    "contador_ejercicios = 1\n",
    "\n",
    "for ejercicio in ejercicios:  \n",
    "    proposiciones, lenguaje_local = parse_atomicas(ejercicio)\n",
    "    \n",
    "    lenguaje_local += lenguaje\n",
    "    \n",
    "    total_pasos = len(ejercicio['premisas']) + len(ejercicio['pasos'])\n",
    "    \n",
    "    lista_pasos = [str(x) for x in range(total_pasos + 1, 0, -1)]\n",
    "    \n",
    "    completo = lista_pasos  + lenguaje_local + reglas + proposiciones\n",
    "    \n",
    "    tabla = generar_tabla(ejercicio)\n",
    "    \n",
    "    ejercicio_html = generar_ejercicio(tabla, contador_ejercicios)\n",
    "    contador_ejercicios += 1\n",
    "    \n",
    "    ejercicio_html += generar_dragboxes(proposiciones, lenguaje_local)\n",
    "    \n",
    "    ejercicio_html += '</question>\\n'\n",
    "    \n",
    "    html += ejercicio_html\n",
    "    \n",
    "html += '</quiz>'\n",
    "\n",
    "print(\"¡Listos!\")\n",
    "print(\"Ejercicios procesados: %s\" % (contador_ejercicios - 1))"
   ]
  },
  {
   "cell_type": "code",
   "execution_count": 13,
   "metadata": {},
   "outputs": [],
   "source": [
    "with open('ejercicios.xml', 'w') as f:\n",
    "    f.write(html)"
   ]
  }
 ],
 "metadata": {
  "kernelspec": {
   "display_name": "Python 3",
   "language": "python",
   "name": "python3"
  },
  "language_info": {
   "codemirror_mode": {
    "name": "ipython",
    "version": 3
   },
   "file_extension": ".py",
   "mimetype": "text/x-python",
   "name": "python",
   "nbconvert_exporter": "python",
   "pygments_lexer": "ipython3",
   "version": "3.8.2"
  }
 },
 "nbformat": 4,
 "nbformat_minor": 4
}
